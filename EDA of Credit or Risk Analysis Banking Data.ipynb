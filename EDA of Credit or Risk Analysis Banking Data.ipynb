{
 "cells": [
  {
   "cell_type": "code",
   "execution_count": null,
   "id": "ff8554c9",
   "metadata": {},
   "outputs": [],
   "source": [
    "import mysql.connector\n",
    "import pandas as pd\n",
    "import matplotlib.pyplot as plt\n",
    "import numpy as np\n",
    "import seaborn as sns\n",
    "\n",
    "\n",
    "# CONNECT TO THE SERVER\n",
    "cnx = mysql.connector.connect(\n",
    "    host=\"localhost\",\n",
    "    port=3306,\n",
    "    user=\"root\")"
   ]
  },
  {
   "cell_type": "code",
   "execution_count": null,
   "id": "20229db9",
   "metadata": {},
   "outputs": [],
   "source": [
    "query = \"select * from banking_domain.customer\""
   ]
  },
  {
   "cell_type": "code",
   "execution_count": null,
   "id": "e2e02063",
   "metadata": {},
   "outputs": [],
   "source": [
    "df = pd.read_sql(query, cnx)\n",
    "\n",
    "print(df)"
   ]
  },
  {
   "cell_type": "code",
   "execution_count": null,
   "id": "c3e5d51c",
   "metadata": {},
   "outputs": [],
   "source": [
    "cnx.close()"
   ]
  },
  {
   "cell_type": "code",
   "execution_count": null,
   "id": "c4013a60",
   "metadata": {},
   "outputs": [],
   "source": [
    "df.head(5)"
   ]
  },
  {
   "cell_type": "code",
   "execution_count": null,
   "id": "0a9c3e07",
   "metadata": {},
   "outputs": [],
   "source": [
    "df.describe()"
   ]
  },
  {
   "cell_type": "code",
   "execution_count": null,
   "id": "6ab91cd0",
   "metadata": {},
   "outputs": [],
   "source": [
    "df.info()"
   ]
  },
  {
   "cell_type": "code",
   "execution_count": null,
   "id": "0e9c5562",
   "metadata": {},
   "outputs": [],
   "source": [
    "bins = [0,100000,300000,float(\"inf\")]\n",
    "labels = [\"Low\",\"Med\",\"High\"]\n",
    "\n",
    "df[\"Income Band\"] = pd.cut(df[\"Estimated Income\"] , bins=bins, labels=labels, right=False)"
   ]
  },
  {
   "cell_type": "code",
   "execution_count": null,
   "id": "761a4fdf",
   "metadata": {},
   "outputs": [],
   "source": [
    "df[\"Income Band\"].value_counts().plot(kind=\"bar\")"
   ]
  },
  {
   "cell_type": "code",
   "execution_count": null,
   "id": "e80cb766",
   "metadata": {},
   "outputs": [],
   "source": [
    "# Examine the distribution in unique cataegories in categorical columns\n",
    "\n",
    "categorical_cols=df[[\"BRId\",\"GenderId\",\"IAId\",\"Amount of Credit Cards\",\"Nationality\",\"Occupation\",\"Fee Structure\",\"Loyalty Classification\",\"Properties Owned\",\"Risk Weighting\",\"Income Band\"]].columns\n",
    "\n",
    "for col in categorical_cols:\n",
    "    print(f\"Value Counts For {col} : \")\n",
    "    display(df[col].value_counts())"
   ]
  },
  {
   "cell_type": "code",
   "execution_count": null,
   "id": "2c29387b",
   "metadata": {},
   "outputs": [],
   "source": [
    "# UNIVARIATE ANALYSIS\n",
    "for i,predictor in enumerate(categorical_cols):\n",
    "    plt.figure(i)\n",
    "    sns.countplot(data=df,x=predictor)"
   ]
  },
  {
   "cell_type": "code",
   "execution_count": null,
   "id": "93a268fa",
   "metadata": {},
   "outputs": [],
   "source": [
    "# BIVARIATE ANALYSIS\n",
    "for i,predictor in enumerate(categorical_cols):\n",
    "    plt.figure(i)\n",
    "    sns.countplot(data=df,x=predictor,hue=\"GenderId\")"
   ]
  },
  {
   "cell_type": "code",
   "execution_count": null,
   "id": "d2d268e2",
   "metadata": {},
   "outputs": [],
   "source": [
    "# HISTPLOT OF VALUE COUNTS FOR  DIFFERENT OCCUPATION\n",
    "\n",
    "for col in categorical_cols:\n",
    "    if col == \"Occupation\":\n",
    "        continue\n",
    "    plt.figure(figsize=(8,4))\n",
    "    sns.histplot(df[col])\n",
    "    plt.title(\"Histogram of Occupation Count\")\n",
    "    plt.xlabel(col)\n",
    "    plt.ylabel(\"Count\")\n",
    "    plt.show()"
   ]
  },
  {
   "cell_type": "code",
   "execution_count": null,
   "id": "d3bb9b87",
   "metadata": {},
   "outputs": [],
   "source": [
    "# NUMERICAL ANALYSIS\n",
    "\n",
    "numerical_cols = [\"Estimated Income\",\"Superannuation Savings\",\"Credit Card Balance\",\"Bank Loans\",\"Bank Deposits\",\"Checking Accounts\",\"Saving Accounts\",\"Foreign Currency Account\",\"Business Lending\"]\n",
    "\n",
    "# UNIVARIATE ANALYSIS AND VISUALIZATION\n",
    "plt.figure(figsize=(15,20))\n",
    "for i,col in enumerate(numerical_cols):\n",
    "    plt.subplot(4,3,i+1)\n",
    "    sns.histplot(df[col],kde=True)\n",
    "    plt.title(col)\n",
    "plt.show()"
   ]
  },
  {
   "cell_type": "code",
   "execution_count": null,
   "id": "0367e0ce",
   "metadata": {},
   "outputs": [],
   "source": [
    "# HEATMAPS\n",
    "\n",
    "correlation_matrix = df[numerical_cols].corr()\n",
    "\n",
    "plt.figure(figsize=(12,12))\n",
    "sns.heatmap(correlation_matrix, annot=True, cmap=\"coolwarm\", fmt=\".2f\")\n",
    "plt.title(\"Correlation Matrix\")\n",
    "plt.show()"
   ]
  },
  {
   "cell_type": "code",
   "execution_count": null,
   "id": "9e8fcace",
   "metadata": {},
   "outputs": [],
   "source": [
    "pairs_to_plot = [\n",
    "    ('Bank Deposits', 'Saving Accounts'),\n",
    "    ('Checking Accounts', 'Saving Accounts'),\n",
    "    ('Checking Accounts', 'Foreign Currency Account'),\n",
    "    ('Age', 'Superannuation Savings'),\n",
    "    ('Estimated Income', 'Checking Accounts'),\n",
    "    ('Bank Loans', 'Credit Card Balance'),\n",
    "    ('Business Lending', 'Bank Loans'),\n",
    "]\n",
    "\n",
    "\n",
    "for x_col, y_col in pairs_to_plot:\n",
    "    plt.figure(figsize=(8, 6))\n",
    "    sns.regplot(\n",
    "        data=df,\n",
    "        x=x_col,\n",
    "        y=y_col,\n",
    "        scatter_kws={'alpha': 0.4},     # semi-transparent points\n",
    "        line_kws={'color': 'red'}       # best-fit line color\n",
    "    )\n",
    "    plt.title(f'Relationship between {x_col} and {y_col}', fontsize=14)\n",
    "    plt.xlabel(x_col, fontsize=12)\n",
    "    plt.ylabel(y_col, fontsize=12)\n",
    "    plt.tight_layout()\n",
    "    plt.show()"
   ]
  },
  {
   "cell_type": "code",
   "execution_count": null,
   "id": "a88ece63",
   "metadata": {},
   "outputs": [],
   "source": [
    "# Insights:\n",
    "\n",
    "##Deposits and Savings Behavior\n",
    "\n",
    "\"\"\"A strong correlation between Bank Deposits and Savings Balances suggests that:\n",
    "=> Customers who deposit more frequently are also likely to grow and maintain higher savings.\n",
    "=> These two metrics may be capturing similar financial behavior, indicating potential overlap.\n",
    ".\"\"\"\n",
    "\n",
    "\n",
    "## Income and Age\n",
    "\n",
    "\"\"\"Age and income show moderate links to account balances, reflecting a typical lifecycle trend — older, higher earners build more savings and credit exposure.\"\"\"\n",
    "\n",
    "\n",
    "##Low Correlation with Properties Owned\n",
    "\n",
    "\"\"\"Property ownership appears driven by external factors beyond banking behavior, which explains its weaker correlation with financial balances.\"\"\"\n",
    "\n",
    "\n",
    "##Business vs. Personal Banking\n",
    "\n",
    "\n",
    "\"\"\"=> Business Lending moderately overlaps with Bank Loans, indicating that some  customers carry both personal and business debt.\n",
    "   => However, its low correlation with deposits and property metrics suggests it serves a separate customer group with different financial behaviors.\"\"\"\n"
   ]
  },
  {
   "cell_type": "code",
   "execution_count": null,
   "id": "05e69480",
   "metadata": {},
   "outputs": [],
   "source": []
  }
 ],
 "metadata": {
  "kernelspec": {
   "display_name": "Python 3",
   "language": "python",
   "name": "python3"
  },
  "language_info": {
   "codemirror_mode": {
    "name": "ipython",
    "version": 3
   },
   "file_extension": ".py",
   "mimetype": "text/x-python",
   "name": "python",
   "nbconvert_exporter": "python",
   "pygments_lexer": "ipython3",
   "version": "3.12.10"
  }
 },
 "nbformat": 4,
 "nbformat_minor": 5
}
